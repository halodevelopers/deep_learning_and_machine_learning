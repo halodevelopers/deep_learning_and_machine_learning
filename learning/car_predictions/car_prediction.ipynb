{
 "cells": [
  {
   "cell_type": "code",
   "execution_count": 2,
   "id": "0fc6056e",
   "metadata": {},
   "outputs": [],
   "source": [
    "import pandas as pd\n",
    "import matplotlib.pyplot as plt"
   ]
  },
  {
   "cell_type": "code",
   "execution_count": 3,
   "id": "f10459e0",
   "metadata": {},
   "outputs": [
    {
     "data": {
      "text/html": [
       "<div>\n",
       "<style scoped>\n",
       "    .dataframe tbody tr th:only-of-type {\n",
       "        vertical-align: middle;\n",
       "    }\n",
       "\n",
       "    .dataframe tbody tr th {\n",
       "        vertical-align: top;\n",
       "    }\n",
       "\n",
       "    .dataframe thead th {\n",
       "        text-align: right;\n",
       "    }\n",
       "</style>\n",
       "<table border=\"1\" class=\"dataframe\">\n",
       "  <thead>\n",
       "    <tr style=\"text-align: right;\">\n",
       "      <th></th>\n",
       "      <th>Make</th>\n",
       "      <th>Model</th>\n",
       "      <th>Year</th>\n",
       "      <th>Min Price</th>\n",
       "      <th>Max Price</th>\n",
       "    </tr>\n",
       "  </thead>\n",
       "  <tbody>\n",
       "    <tr>\n",
       "      <th>0</th>\n",
       "      <td>BMW</td>\n",
       "      <td>7 Series</td>\n",
       "      <td>2008</td>\n",
       "      <td>5,500,000</td>\n",
       "      <td>5,500,000</td>\n",
       "    </tr>\n",
       "    <tr>\n",
       "      <th>1</th>\n",
       "      <td>Daewoo</td>\n",
       "      <td>Racer</td>\n",
       "      <td>1993</td>\n",
       "      <td>335,000</td>\n",
       "      <td>335,000</td>\n",
       "    </tr>\n",
       "    <tr>\n",
       "      <th>2</th>\n",
       "      <td>Daihatsu</td>\n",
       "      <td>Charade</td>\n",
       "      <td>1984</td>\n",
       "      <td>325,000</td>\n",
       "      <td>325,000</td>\n",
       "    </tr>\n",
       "    <tr>\n",
       "      <th>3</th>\n",
       "      <td>Daihatsu</td>\n",
       "      <td>Charade</td>\n",
       "      <td>1993</td>\n",
       "      <td>235,000</td>\n",
       "      <td>235,000</td>\n",
       "    </tr>\n",
       "    <tr>\n",
       "      <th>4</th>\n",
       "      <td>Daihatsu</td>\n",
       "      <td>Cuore</td>\n",
       "      <td>2004</td>\n",
       "      <td>450,000</td>\n",
       "      <td>450,000</td>\n",
       "    </tr>\n",
       "  </tbody>\n",
       "</table>\n",
       "</div>"
      ],
      "text/plain": [
       "       Make     Model  Year  Min Price  Max Price\n",
       "0       BMW  7 Series  2008  5,500,000  5,500,000\n",
       "1    Daewoo     Racer  1993    335,000    335,000\n",
       "2  Daihatsu   Charade  1984    325,000    325,000\n",
       "3  Daihatsu   Charade  1993    235,000    235,000\n",
       "4  Daihatsu     Cuore  2004    450,000    450,000"
      ]
     },
     "execution_count": 3,
     "metadata": {},
     "output_type": "execute_result"
    }
   ],
   "source": [
    "dataset = pd.read_csv(\"All_Brand_Cars_price_in_Pakistan.csv\")\n",
    "dataset.head()"
   ]
  },
  {
   "cell_type": "code",
   "execution_count": 5,
   "id": "7d106ecb",
   "metadata": {},
   "outputs": [
    {
     "data": {
      "text/plain": [
       "Make         0\n",
       "Model        0\n",
       "Year         0\n",
       "Min Price    0\n",
       "Max Price    0\n",
       "dtype: int64"
      ]
     },
     "execution_count": 5,
     "metadata": {},
     "output_type": "execute_result"
    }
   ],
   "source": [
    "dataset.isnull().sum()"
   ]
  },
  {
   "cell_type": "code",
   "execution_count": 6,
   "id": "9ce38665",
   "metadata": {},
   "outputs": [
    {
     "data": {
      "text/plain": [
       "Make         0\n",
       "Model        0\n",
       "Year         0\n",
       "Min Price    0\n",
       "Max Price    0\n",
       "dtype: int64"
      ]
     },
     "execution_count": 6,
     "metadata": {},
     "output_type": "execute_result"
    }
   ],
   "source": [
    "dataset.isna().sum()"
   ]
  },
  {
   "cell_type": "code",
   "execution_count": 9,
   "id": "2fbb1663",
   "metadata": {},
   "outputs": [
    {
     "data": {
      "text/plain": [
       "array(['7 Series', 'Racer', 'Charade', 'Cuore', 'Cuore CX', 'Mira',\n",
       "       'Move', 'Accord', 'City', 'City Aspire', 'City IDSI', 'City IVTEC',\n",
       "       'City Vario', 'Civic', 'Civic EXi', 'Civic IVTEC',\n",
       "       'Civic Prosmetic', 'Civic VTi', 'Civic VTi Oriel',\n",
       "       'Civic VTi Oriel Prosmatec', 'Civic VTi Prosmatec', 'CR Z',\n",
       "       'CR Z Sports Hybird', 'Fit', 'Insight', 'Life', 'Vezel',\n",
       "       'Santro Club', 'Sportage', 'Range Rover Sport', 'CT 200h',\n",
       "       'CT 450h', 'Harrier', 'RX 400h', 'RX 450h', 'Quattroporte',\n",
       "       'Az Wagon', 'RX8', 'Scrum', 'C Class', 'E Class', 'S Class', 'GTO',\n",
       "       'Lancer', 'Minicab', 'Pajero Mini', '350Z', 'Juke', 'Latio', 'NX',\n",
       "       'Sunny', 'Boxster', 'Alto', 'APV', 'Bolan', 'Bolan VX', 'Cultus',\n",
       "       'Cultus VX', 'Cultus VXL', 'Cultus VXR', 'Every', 'Khyber',\n",
       "       'Liana', 'Margalla', 'Mehran', 'Mehran VX', 'Mehran VXR', 'Swift',\n",
       "       'Wagon R', 'Allion', 'Aqua', 'Belta', 'Camry', 'Corolla',\n",
       "       'Corolla 2.0 D Saloon', 'Corolla Altis', 'Corolla Axio',\n",
       "       'Corolla Gli', 'Corolla Saloon', 'Corolla XE', 'Corolla Xli',\n",
       "       'Crown Athlete', 'Estima', 'Fielder X', 'Hilux', 'Hilux Vigo',\n",
       "       'iQ', 'Land Cruiser', 'Land Cruiser Prado', 'Mark X', 'Passo',\n",
       "       'Prado', 'Premio', 'Prius', 'Supra', 'Townace', 'Tundra', 'Vitz',\n",
       "       'Wish', 'Foxy', 'Golf GTI', 'Up'], dtype=object)"
      ]
     },
     "execution_count": 9,
     "metadata": {},
     "output_type": "execute_result"
    }
   ],
   "source": [
    "dataset[\"Model\"].unique()"
   ]
  },
  {
   "cell_type": "markdown",
   "id": "8e920270",
   "metadata": {},
   "source": [
    "Generating Dummie Data"
   ]
  },
  {
   "cell_type": "code",
   "execution_count": 16,
   "id": "032ab432",
   "metadata": {},
   "outputs": [],
   "source": [
    "from sklearn.preprocessing import LabelEncoder\n",
    "\n",
    "# Encoding data\n",
    "le = LabelEncoder()\n",
    "dataset['Model'] = le.fit_transform(dataset[\"Model\"])"
   ]
  },
  {
   "cell_type": "code",
   "execution_count": 17,
   "id": "2b20f9c1",
   "metadata": {},
   "outputs": [
    {
     "data": {
      "text/html": [
       "<div>\n",
       "<style scoped>\n",
       "    .dataframe tbody tr th:only-of-type {\n",
       "        vertical-align: middle;\n",
       "    }\n",
       "\n",
       "    .dataframe tbody tr th {\n",
       "        vertical-align: top;\n",
       "    }\n",
       "\n",
       "    .dataframe thead th {\n",
       "        text-align: right;\n",
       "    }\n",
       "</style>\n",
       "<table border=\"1\" class=\"dataframe\">\n",
       "  <thead>\n",
       "    <tr style=\"text-align: right;\">\n",
       "      <th></th>\n",
       "      <th>Make</th>\n",
       "      <th>Model</th>\n",
       "      <th>Year</th>\n",
       "      <th>Min Price</th>\n",
       "      <th>Max Price</th>\n",
       "    </tr>\n",
       "  </thead>\n",
       "  <tbody>\n",
       "    <tr>\n",
       "      <th>0</th>\n",
       "      <td>BMW</td>\n",
       "      <td>1</td>\n",
       "      <td>2008</td>\n",
       "      <td>5,500,000</td>\n",
       "      <td>5,500,000</td>\n",
       "    </tr>\n",
       "    <tr>\n",
       "      <th>1</th>\n",
       "      <td>Daewoo</td>\n",
       "      <td>85</td>\n",
       "      <td>1993</td>\n",
       "      <td>335,000</td>\n",
       "      <td>335,000</td>\n",
       "    </tr>\n",
       "    <tr>\n",
       "      <th>2</th>\n",
       "      <td>Daihatsu</td>\n",
       "      <td>18</td>\n",
       "      <td>1984</td>\n",
       "      <td>325,000</td>\n",
       "      <td>325,000</td>\n",
       "    </tr>\n",
       "    <tr>\n",
       "      <th>3</th>\n",
       "      <td>Daihatsu</td>\n",
       "      <td>18</td>\n",
       "      <td>1993</td>\n",
       "      <td>235,000</td>\n",
       "      <td>235,000</td>\n",
       "    </tr>\n",
       "    <tr>\n",
       "      <th>4</th>\n",
       "      <td>Daihatsu</td>\n",
       "      <td>45</td>\n",
       "      <td>2004</td>\n",
       "      <td>450,000</td>\n",
       "      <td>450,000</td>\n",
       "    </tr>\n",
       "  </tbody>\n",
       "</table>\n",
       "</div>"
      ],
      "text/plain": [
       "       Make  Model  Year  Min Price  Max Price\n",
       "0       BMW      1  2008  5,500,000  5,500,000\n",
       "1    Daewoo     85  1993    335,000    335,000\n",
       "2  Daihatsu     18  1984    325,000    325,000\n",
       "3  Daihatsu     18  1993    235,000    235,000\n",
       "4  Daihatsu     45  2004    450,000    450,000"
      ]
     },
     "execution_count": 17,
     "metadata": {},
     "output_type": "execute_result"
    }
   ],
   "source": [
    "dataset.head()"
   ]
  },
  {
   "cell_type": "markdown",
   "id": "2fc5c715",
   "metadata": {},
   "source": [
    "### Visualisation"
   ]
  },
  {
   "cell_type": "code",
   "execution_count": 19,
   "id": "af348ca7",
   "metadata": {},
   "outputs": [
    {
     "data": {
      "text/plain": [
       "<AxesSubplot:xlabel='Model', ylabel='Make'>"
      ]
     },
     "execution_count": 19,
     "metadata": {},
     "output_type": "execute_result"
    },
    {
     "data": {
      "image/png": "[encoded data removed]",
      "text/plain": [
       "<Figure size 432x288 with 1 Axes>"
      ]
     },
     "metadata": {
      "needs_background": "light"
     },
     "output_type": "display_data"
    }
   ],
   "source": [
    "# Model vs Brand\n",
    "dataset.plot(kind = 'scatter', x = 'Model', y = 'Make')"
   ]
  },
  {
   "cell_type": "code",
   "execution_count": 21,
   "id": "04bfc1ff",
   "metadata": {
    "scrolled": true
   },
   "outputs": [
    {
     "data": {
      "text/plain": [
       "<AxesSubplot:xlabel='Year', ylabel='Make'>"
      ]
     },
     "execution_count": 21,
     "metadata": {},
     "output_type": "execute_result"
    },
    {
     "data": {
      "image/png": "[encoded data removed]",
      "text/plain": [
       "<Figure size 432x288 with 1 Axes>"
      ]
     },
     "metadata": {
      "needs_background": "light"
     },
     "output_type": "display_data"
    }
   ],
   "source": [
    "# Year vs price\n",
    "dataset.plot(kind = 'scatter', x = 'Year', y = 'Make')"
   ]
  },
  {
   "cell_type": "code",
   "execution_count": 23,
   "id": "9d441733",
   "metadata": {},
   "outputs": [
    {
     "data": {
      "text/plain": [
       "<AxesSubplot:ylabel='Frequency'>"
      ]
     },
     "execution_count": 23,
     "metadata": {},
     "output_type": "execute_result"
    },
    {
     "data": {
      "image/png": "[encoded data removed]",
      "text/plain": [
       "<Figure size 432x288 with 1 Axes>"
      ]
     },
     "metadata": {
      "needs_background": "light"
     },
     "output_type": "display_data"
    }
   ],
   "source": [
    "# Year vs price\n",
    "dataset.plot(kind = 'hist', x = 'Year', y = 'Model')"
   ]
  },
  {
   "cell_type": "markdown",
   "id": "e282af6a",
   "metadata": {},
   "source": [
    "### Dealing Outliers"
   ]
  },
  {
   "cell_type": "code",
   "execution_count": null,
   "id": "1d50ea68",
   "metadata": {},
   "outputs": [],
   "source": []
  }
 ],
 "metadata": {
  "kernelspec": {
   "display_name": "Python 3 (ipykernel)",
   "language": "python",
   "name": "python3"
  },
  "language_info": {
   "codemirror_mode": {
    "name": "ipython",
    "version": 3
   },
   "file_extension": ".py",
   "mimetype": "text/x-python",
   "name": "python",
   "nbconvert_exporter": "python",
   "pygments_lexer": "ipython3",
   "version": "3.9.12"
  }
 },
 "nbformat": 4,
 "nbformat_minor": 5
}
